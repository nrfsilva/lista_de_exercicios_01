{
  "nbformat": 4,
  "nbformat_minor": 0,
  "metadata": {
    "colab": {
      "name": "usina_da_pedra_extracao_metricas_indicesDeVegetacao.ipynb",
      "provenance": [],
      "collapsed_sections": [],
      "mount_file_id": "1eloCS3SvmDCO3Ks4uFGSRRt475shWrgc",
      "authorship_tag": "ABX9TyO7CWfNF9uqpv/NWsv2KB9J",
      "include_colab_link": true
    },
    "kernelspec": {
      "name": "python3",
      "display_name": "Python 3"
    },
    "language_info": {
      "name": "python"
    }
  },
  "cells": [
    {
      "cell_type": "markdown",
      "metadata": {
        "id": "view-in-github",
        "colab_type": "text"
      },
      "source": [
        "<a href=\"https://colab.research.google.com/github/nrfsilva/lista_de_exercicios_01/blob/main/usina_da_pedra_extracao_metricas_indicesDeVegetacao.ipynb\" target=\"_parent\"><img src=\"https://colab.research.google.com/assets/colab-badge.svg\" alt=\"Open In Colab\"/></a>"
      ]
    },
    {
      "cell_type": "markdown",
      "source": [
        "***Conectar ao Google Drive***"
      ],
      "metadata": {
        "id": "OO7ol0nps7xF"
      }
    },
    {
      "cell_type": "code",
      "source": [
        "from google.colab import drive\n",
        "drive.mount('/content/drive')"
      ],
      "metadata": {
        "id": "ukkj8dcfESZN",
        "colab": {
          "base_uri": "https://localhost:8080/"
        },
        "outputId": "624c02de-2fdb-405b-83ec-361f7c333b65"
      },
      "execution_count": 1,
      "outputs": [
        {
          "output_type": "stream",
          "name": "stdout",
          "text": [
            "Mounted at /content/drive\n"
          ]
        }
      ]
    },
    {
      "cell_type": "markdown",
      "source": [
        "***Importar bibliotecas***"
      ],
      "metadata": {
        "id": "to1u2Lols-lc"
      }
    },
    {
      "cell_type": "code",
      "source": [
        "import os\n",
        "import pandas as pd\n",
        "import ee"
      ],
      "metadata": {
        "id": "uRsjW2MVJIlU"
      },
      "execution_count": 2,
      "outputs": []
    },
    {
      "cell_type": "markdown",
      "source": [
        "***Google Earth Engine API autenticação***"
      ],
      "metadata": {
        "id": "JwnGhUdt44Yt"
      }
    },
    {
      "cell_type": "code",
      "execution_count": 3,
      "metadata": {
        "id": "urtVgG7MGEAv",
        "colab": {
          "base_uri": "https://localhost:8080/"
        },
        "outputId": "d9364215-6fe7-4382-ea43-37d5ca5a9455"
      },
      "outputs": [
        {
          "output_type": "stream",
          "name": "stdout",
          "text": [
            "To authorize access needed by Earth Engine, open the following URL in a web browser and follow the instructions. If the web browser does not start automatically, please manually browse the URL below.\n",
            "\n",
            "    https://code.earthengine.google.com/client-auth?scopes=https%3A//www.googleapis.com/auth/earthengine%20https%3A//www.googleapis.com/auth/devstorage.full_control&request_id=4sLY7YLIfd_gXAQOeB7l1mZUMpPCXzjJuVEOM0VPM9I&tc=N5llKWopmqVejeb0-LWRfL5m3FZk_51dlMP2vEjx5Ic&cc=KA7j5gaOx52cElPWwjzbf3TbkaLr5HNwpC5bbdVVE0s\n",
            "\n",
            "The authorization workflow will generate a code, which you should paste in the box below.\n",
            "Enter verification code: 4/1AdQt8qgQZBUmyEGXPOldEoozjmzzhtj5Ru1UNqr6dPJ9uGsKoFreucr3sXk\n",
            "\n",
            "Successfully saved authorization token.\n"
          ]
        }
      ],
      "source": [
        "# autenticação na API\n",
        "ee.Authenticate()\n",
        "\n",
        "# iniciar a biblioteca\n",
        "ee.Initialize()"
      ]
    },
    {
      "cell_type": "markdown",
      "source": [
        "***Configurações***"
      ],
      "metadata": {
        "id": "7BUp6p2o4yn9"
      }
    },
    {
      "cell_type": "code",
      "source": [
        "roi = ee.FeatureCollection('users/nildsonsilva/Usina_Pedra/extensao_modelagem_2022_BURITI_UNION_resumido_comReferencias')\n",
        "talhoes = ee.FeatureCollection('users/nildsonsilva/Usina_Pedra/buriti_2022_sentinel2_10m_pixels_puros_diss')\n",
        "\n",
        "start_date = '2022-06-01'\n",
        "end_date = '2022-07-01'\n",
        "\n",
        "#### LEGENDA DOS ÍNDICES\n",
        "# ['B4','B8','QA60'] ['NDVI','EVI2','SAVI','OSAVI','ReCl','MSAVI2']\n",
        "# ['B3','B4','B8','QA60'] ['GNDVI','NDWImcFeeters','GCI','PVR']\n",
        "# ['B2','B3','B4','B8','QA60'] ['EVI','RBNDVI','SIPI','ARVI','VARI']\n",
        "# ['B3','B8','B11','B12','QA60'] ['NDSI','NDWIgao','NBR']\n",
        "# ['B5','B6','B7','B8','QA60'] ['NDRE','NRERI']\n",
        "########################\n",
        "\n",
        "interested_area_name = 'buriti' # recomendado inserir o nome minúsculo\n",
        "reference_year = '2022'\n",
        "interested_variable = ['GNDVI','NDWImcFeeters','GCI','PVR']\n",
        "id_column_tables = 'ref_2022' \n",
        "\n",
        "filepath_cod_talhao = '/content/drive/MyDrive/RESULTADOS_PEDRA_SENTINEL2_2022/codigo_2022_buriti.csv'\n",
        "root_path = '/content/drive/MyDrive/USINA_PRODUTIVIDADE/'\n",
        "\n",
        "input_bands = ['B3','B4','B8','QA60']  # insira a banda de interesse, porém sempre mantenha aqui a B8 (NIR) e a QA60 (BQA), pois elas são utilizadas na remoção das nuvens\n",
        "\n",
        "dict_bandsname = {\n",
        "    'B2': 'BLUE',\n",
        "    'B3': 'GREEN',\n",
        "    'B4': 'RED',\n",
        "    'B5': 'REDeDGE1',\n",
        "    'B6': 'REDeDGE2',\n",
        "    'B7': 'REDeDGE3',\n",
        "    'B8': 'NIR',\n",
        "    'B8A': 'REDeDGE4',\n",
        "    'B11': 'SWIR1',\n",
        "    'B12': 'SWIR2',\n",
        "    'QA60': 'BQA'\n",
        "}\n",
        "\n",
        "dict_columns_final_name = {\n",
        "    'NDVI': 'ndvi',\n",
        "    'EVI2': 'evi2',\n",
        "    'SAVI': 'savi',\n",
        "    'OSAVI': 'osavi',\n",
        "    'ReCl': 'recl',\n",
        "    'MSAVI2': 'msavi2',\n",
        "    'GNDVI': 'gndvi',\n",
        "    'NDWImcFeeters': 'ndwi_mcfeeters',\n",
        "    'GCI': 'gci',\n",
        "    'PVR': 'pvr',\n",
        "    'EVI': 'evi',\n",
        "    'RBNDVI': 'rbndvi',\n",
        "    'SIPI': 'sipi',\n",
        "    'ARVI': 'arvi',\n",
        "    'VARI': 'vari',\n",
        "    'NDSI': 'ndsi',\n",
        "    'NDWIgao': 'ndwi_gao',\n",
        "    'NBR': 'nbr',\n",
        "    'NDRE': 'ndre',\n",
        "    'NRERI': 'nreri'\n",
        "}\n",
        "\n",
        "renamed_bands = [dict_bandsname.get(i) for i in input_bands]\n",
        "renamed_bands"
      ],
      "metadata": {
        "colab": {
          "base_uri": "https://localhost:8080/"
        },
        "id": "v_YoUz-RqnJr",
        "outputId": "641d25c0-0628-44a2-9206-3a307af499b0"
      },
      "execution_count": 15,
      "outputs": [
        {
          "output_type": "execute_result",
          "data": {
            "text/plain": [
              "['GREEN', 'RED', 'NIR', 'BQA']"
            ]
          },
          "metadata": {},
          "execution_count": 15
        }
      ]
    },
    {
      "cell_type": "markdown",
      "source": [
        "***Funções necessárias***"
      ],
      "metadata": {
        "id": "m1AKZUZvvdKS"
      }
    },
    {
      "cell_type": "code",
      "source": [
        "# função para padronizar as propriedades\n",
        "def padronizeProperties(img):\n",
        "\n",
        "  landsatSpacecrafts = ['LANDSAT_5', 'LANDSAT_7', 'LANDSAT_8']\n",
        "  copernicusSpacecrafts = ['Sentinel-2A', 'Sentinel-2B']\n",
        "\n",
        "  img = ee.Image(img)\n",
        "\n",
        "  landsatImage = img \\\n",
        "    .set('SPACECRAFT', img.get('SPACECRAFT_ID')) \\\n",
        "    .set('CLOUD_COVER', img.get('CLOUD_COVER')) \\\n",
        "    .set('SOLAR_ZENITH_ANGLE', img.get('SUN_ELEVATION')) \\\n",
        "    .set('SOLAR_AZIMUTH_ANGLE', img.get('SUN_AZIMUTH'))\n",
        "\n",
        "  copernicusImage = img \\\n",
        "    .set('SPACECRAFT', img.get('SPACECRAFT_NAME')) \\\n",
        "    .set('CLOUD_COVER', img.get('CLOUDY_PIXEL_PERCENTAGE')) \\\n",
        "    .set('SOLAR_ZENITH_ANGLE', img.get('MEAN_SOLAR_ZENITH_ANGLE')) \\\n",
        "    .set('SOLAR_AZIMUTH_ANGLE', img.get('MEAN_SOLAR_AZIMUTH_ANGLE'))\n",
        "  \n",
        "  return ee.Image(ee.Algorithms.If(\n",
        "      ee.List(landsatSpacecrafts).containsAll([img.get('SPACECRAFT_ID')]),\n",
        "      landsatImage,\n",
        "      ee.Algorithms.If(\n",
        "        ee.List(copernicusSpacecrafts).containsAll([img.get('SPACECRAFT_NAME')]),\n",
        "        copernicusImage,\n",
        "        img\n",
        "      )\n",
        "  ))"
      ],
      "metadata": {
        "id": "0yf9XRjEGbG8"
      },
      "execution_count": 6,
      "outputs": []
    },
    {
      "cell_type": "code",
      "source": [
        "# função de máscara de nuvens para o Sentinel-2\n",
        "def sentinelCloudMask(img):\n",
        "  sentinelCloudCoverProbability = 40\n",
        "  #Identify dark NIR pixels (potential cloud shadow pixels).\n",
        "  NIR_DRK_THRESH = 0.15\n",
        "  CLD_PRJ_DIST = 2\n",
        "  BUFFER = 50\n",
        "\n",
        "  s2CloudsImage = ee.Image(ee.ImageCollection('COPERNICUS/S2_CLOUD_PROBABILITY') \\\n",
        "                           .filterMetadata('system:index', 'equals', img.get('system:index')).first()) \\\n",
        "                           .unmask()\n",
        "\n",
        "  #1: clouds 0: non-clouds.\n",
        "  isClouds = s2CloudsImage.gte(sentinelCloudCoverProbability)\n",
        "  darkPixels = ee.Image(img.select('NIR').lt(NIR_DRK_THRESH)).rename('dark_pixels')\n",
        "\n",
        "  #Determine the direction to project cloud shadow from clouds (assumes UTM projection).\n",
        "  shadowAzimuth = ee.Number(90).subtract(ee.Number(img.get('SOLAR_AZIMUTH_ANGLE')))\n",
        "  \n",
        "  #Project shadows from clouds for the distance specified by the CLD_PRJ_DIST input.\n",
        "  isCloudsProj = isClouds \\\n",
        "    .directionalDistanceTransform(shadowAzimuth, CLD_PRJ_DIST*10) \\\n",
        "    .reproject(**{'crs': img.select(0).projection(), 'scale': 100}) \\\n",
        "    .select('distance').mask() \\\n",
        "    .rename('cloud_transform')\n",
        "\n",
        "  #Identify the intersection of dark pixels with cloud shadow projection.\n",
        "  isShadows = isCloudsProj.multiply(darkPixels).rename('shadows')\n",
        "\n",
        "  #Combine cloud and shadow mask, set cloud and shadow as value 1, else 0.\n",
        "  cloudsOrCloudShadows = isClouds.Or(isShadows)\n",
        "\n",
        "  #Remove small cloud-shadow patches and dilate remaining pixels by BUFFER input. \n",
        "  #20 m scale is for speed, and assumes clouds don't require 10 m precision.\n",
        "  cloudsOrCloudShadows = cloudsOrCloudShadows \\\n",
        "    .focal_min(2) \\\n",
        "    .focal_max(BUFFER*2/20) \\\n",
        "    .reproject(**{'crs': img.select([0]).projection(), 'scale': 20}) \\\n",
        "    .rename('cloudmask')\n",
        "\n",
        "  return ee.Image(cloudsOrCloudShadows)\n",
        "    "
      ],
      "metadata": {
        "id": "j70VM8CBCry9"
      },
      "execution_count": 7,
      "outputs": []
    },
    {
      "cell_type": "code",
      "source": [
        "# remover pixels fora da escala padrão\n",
        "def mask_invalid_values(img):\n",
        "  img = ee.Image(img)\n",
        "  mask = img.gt(10000.0000000001)\n",
        "\n",
        "  band = img \\\n",
        "    .where(img.gte(0.0000000001),img) \\\n",
        "    .where(img.lt(0.0000000001),0) \\\n",
        "    .where(img.gt(10000.0000000001),img.updateMask(mask.eq(0)))\n",
        "\n",
        "  return band"
      ],
      "metadata": {
        "id": "4F0yTNl9xqJ6"
      },
      "execution_count": 8,
      "outputs": []
    },
    {
      "cell_type": "code",
      "source": [
        "# função de pré-processamento\n",
        "def basic_process(img):\n",
        "\n",
        "  img = ee.Image(img)\n",
        "\n",
        "  img_edit = img.clip(roi.geometry())\n",
        "\n",
        "  year = ee.String(img.get('system:index')).slice(0,4)\n",
        "  month = ee.String(img.get('system:index')).slice(4,6)\n",
        "  day = ee.String(img.get('system:index')).slice(6,8)\n",
        "\n",
        "  date_string = ee.String(year.cat(month).cat(day))\n",
        "\n",
        "  img_edit = padronizeProperties(img_edit)\n",
        "  cloudMask = ee.Image(sentinelCloudMask(img_edit))\n",
        "\n",
        "  img_masked = ee.Image(img_edit.updateMask(cloudMask.eq(0)))\n",
        "\n",
        "  interested_bands = renamed_bands[0:-1]\n",
        "\n",
        "  stack = ee.ImageCollection([mask_invalid_values(img_masked.select(ee.String(i))) for i in interested_bands]).toBands()\n",
        "  stack = stack.select(stack.bandNames(),interested_bands)\n",
        "\n",
        "  return stack \\\n",
        "    .int16() \\\n",
        "    .copyProperties(img) \\\n",
        "    .set({'data_string':date_string})"
      ],
      "metadata": {
        "id": "hczgUN0h2kei"
      },
      "execution_count": 9,
      "outputs": []
    },
    {
      "cell_type": "code",
      "source": [
        "# função para cálculo dos índices de vegetação\n",
        "def obtain_vis_values(data):\n",
        "  col = ee.ImageCollection(s2Collection_v1).filterMetadata('data_string','equals',data)\n",
        "  imgReferencia = ee.Image(col.first())\n",
        "  \n",
        "  data_string = ee.String(imgReferencia.get('data_string'))\n",
        "  col_mean = ee.Image(col.mean())\n",
        "\n",
        "  img = ee.Image(col_mean).divide(ee.Image(10000))\n",
        "  variables = renamed_bands[0:-1]\n",
        "\n",
        "  if (('RED' in variables) and ('NIR' in variables) and len(variables) == 2) == True:\n",
        "\n",
        "    img = ee.Image(img)\n",
        "\n",
        "    ndvi = ee.Image(0).expression('((NIR - RED) / (NIR + RED))',{\n",
        "         'NIR': img.select('NIR'),\n",
        "         'RED': img.select('RED')})\n",
        "    ndvi = ee.Image(ndvi.updateMask(ndvi.gte(0.0000000001))).rename('NDVI')\n",
        "\n",
        "    evi2 = ee.Image(0).expression('2.5*((NIR - RED)/(NIR + 2.4*RED + 1))',{\n",
        "        'NIR': img.select('NIR'),\n",
        "        'RED': img.select('RED')\n",
        "     })\n",
        "    evi2 = evi2.updateMask(evi2.gte(0.0000000001)).rename('EVI2')\n",
        "\n",
        "    savi = ee.Image(0).expression('((NIR-RED)*(1+L))/((NIR+RED)+L)',{\n",
        "         'NIR': img.select('NIR'),\n",
        "         'RED': img.select('RED'),\n",
        "         'L': ee.Image(0.5)\n",
        "      }).rename('SAVI')\n",
        "\n",
        "    osavi = ee.Image(0).expression('(NIR-RED)/(NIR+RED+0.16)',{\n",
        "         'NIR': img.select('NIR'),\n",
        "         'RED': img.select('RED'),\n",
        "      }).rename('OSAVI')\n",
        "\n",
        "    recl = ee.Image(0).expression('(NIR/RED)-1',{\n",
        "         'NIR': img.select('NIR'),\n",
        "         'RED': img.select('RED'),\n",
        "      }).rename('ReCl')\n",
        "\n",
        "    msavi2 = ee.Image(0).expression('((2 * NIR + 1)-sqrt(((2*NIR+1)**2)-(8*(NIR-RED))))/2',{\n",
        "         'NIR': img.select('NIR'),\n",
        "         'RED': img.select('RED'),\n",
        "      }).rename('MSAVI2')\n",
        "\n",
        "    stack = ndvi.addBands(evi2).addBands(savi).addBands(osavi).addBands(recl).addBands(msavi2)\n",
        "\n",
        "    return stack.copyProperties(imgReferencia).set('data_string',data_string)\n",
        "    \n",
        "  elif (('GREEN' in variables) and ('RED' in variables) and ('NIR' in variables) and len(variables) == 3) == True:\n",
        "\n",
        "    img = ee.Image(img)\n",
        "\n",
        "    gndvi = ee.Image(0).expression('(NIR - GREEN) / (NIR + GREEN)',{\n",
        "         'GREEN': img.select('GREEN'),\n",
        "         'NIR': img.select('NIR'),\n",
        "     }).rename('GNDVI')\n",
        "\n",
        "    ndwi_mcfeeters = ee.Image(0).expression('(GREEN-NIR)/(GREEN+NIR)',{\n",
        "        'GREEN': img.select('GREEN'),\n",
        "         'NIR': img.select('NIR'),\n",
        "     }).rename('NDWImcFeeters')\n",
        "     \n",
        "    gci = ee.Image(0).expression('(NIR/GREEN)-1',{\n",
        "         'GREEN': img.select('GREEN'),\n",
        "         'NIR': img.select('NIR'),\n",
        "     }).rename('GCI')\n",
        "\n",
        "    pvr = ee.Image(0).expression('(GREEN - RED) / (GREEN + RED)',{\n",
        "         'GREEN': img.select('GREEN'),\n",
        "         'RED': img.select('RED'),\n",
        "     }).rename('PVR') \n",
        "\n",
        "    stack = gndvi.addBands(ndwi_mcfeeters).addBands(gci).addBands(pvr)\n",
        "\n",
        "    return stack.copyProperties(imgReferencia).set({'data_string':data_string})\n",
        "\n",
        "  elif (('BLUE' in variables) and ('GREEN' in variables) and ('RED' in variables) and ('NIR' in variables) and len(variables) == 4) == True:\n",
        "\n",
        "    img = ee.Image(img)\n",
        "\n",
        "    evi = ee.Image(0).expression('G*((NIR - RED)/(NIR +C1*RED -C2*BLUE + L))',{\n",
        "         'BLUE': img.select('BLUE'),\n",
        "         'RED': img.select('RED'),\n",
        "         'NIR': img.select('NIR'),\n",
        "         'G': ee.Image(2.5),\n",
        "         'C1': ee.Image(6),\n",
        "         'C2': ee.Image(7.5),\n",
        "         'L': ee.Image(1)\n",
        "     })\n",
        "    evi = evi.updateMask(evi.gte(0.0000000001))\n",
        "    evi = evi.updateMask(evi.lte(1.0000000001)).rename('EVI')\n",
        "\n",
        "    rbndvi = ee.Image(0).expression('(NIR - (RED + BLUE)) / (NIR + (RED + BLUE))',{\n",
        "         'BLUE': img.select('BLUE'),\n",
        "         'RED': img.select('RED'),\n",
        "         'NIR': img.select('NIR'),\n",
        "     }).rename('RBNDVI')\n",
        "\n",
        "    sipi = ee.Image(0).expression('(NIR-BLUE) / (NIR-RED)',{\n",
        "         'BLUE': img.select('BLUE'),\n",
        "         'RED': img.select('RED'),\n",
        "         'NIR': img.select('NIR'),\n",
        "     }).rename('SIPI')\n",
        "\n",
        "    arvi = ee.Image(0).expression('(NIR-2*RED+BLUE) / (NIR+2*RED+BLUE)',{\n",
        "         'BLUE': img.select('BLUE'),\n",
        "         'RED': img.select('RED'),\n",
        "         'NIR': img.select('NIR'),\n",
        "    }).rename('ARVI')\n",
        "\n",
        "    vari = ee.Image(0).expression('(GREEN - RED) / (GREEN + RED - BLUE)',{\n",
        "         'BLUE': img.select('BLUE'),\n",
        "         'GREEN': img.select('GREEN'),\n",
        "         'RED': img.select('RED'),\n",
        "     }).rename('VARI')\n",
        "\n",
        "    stack = evi.addBands(rbndvi).addBands(sipi).addBands(arvi).addBands(vari)\n",
        "\n",
        "    return stack.copyProperties(imgReferencia).set({'data_string':data_string})\n",
        "\n",
        "  elif (('GREEN' in variables) and ('NIR' in variables) and ('SWIR1' in variables) and ('SWIR2' in variables) and len(variables) == 4) == True:\n",
        "\n",
        "    img = ee.Image(img)\n",
        "\n",
        "    ndsi = ee.Image(0).expression('(GREEN - SWIR1)/(GREEN + SWIR1)',{\n",
        "         'GREEN': img.select('GREEN'),\n",
        "         'SWIR1': img.select('SWIR1'),\n",
        "     }).rename('NDSI')\n",
        "\n",
        "    ndwi_gao = ee.Image(0).expression('(NIR-SWIR1)/(NIR+SWIR1)',{\n",
        "         'NIR': img.select('NIR'),\n",
        "         'SWIR1': img.select('SWIR1'),\n",
        "     }).rename('NDWIgao')\n",
        "\n",
        "    nbr = ee.Image(0).expression('(NIR-SWIR2)/(NIR+SWIR2)',{\n",
        "         'NIR': img.select('NIR'),\n",
        "         'SWIR2': img.select('SWIR2'),\n",
        "     }).rename('NBR')\n",
        "\n",
        "    stack = ndsi.addBands(ndwi_gao).addBands(nbr)\n",
        "\n",
        "    return stack.copyProperties(imgReferencia).set({'data_string':data_string})\n",
        "\n",
        "  elif (('REDeDGE1' in variables) and ('REDeDGE2' in variables) and ('REDeDGE3' in variables) and ('NIR' in variables) and len(variables) == 4) == True:\n",
        "\n",
        "    img = ee.Image(img)\n",
        "\n",
        "    ndre = ee.Image(0).expression('(REDeDGE3-REDeDGE1)/(REDeDGE3+REDeDGE1)',{\n",
        "         'REDeDGE1': img.select('REDeDGE1'),\n",
        "         'REDeDGE3': img.select('REDeDGE3'),\n",
        "     }).rename('NDRE')\n",
        "\n",
        "    nreri = ee.Image(0).expression('(NIR-REDeDGE2)/(NIR+REDeDGE1)',{\n",
        "         'REDeDGE1': img.select('REDeDGE1'),\n",
        "         'REDeDGE2': img.select('REDeDGE2'),\n",
        "         'NIR': img.select('NIR'),\n",
        "    }).rename('NRERI')\n",
        "\n",
        "    stack = ndre.addBands(nreri)\n",
        "\n",
        "    return stack.copyProperties(imgReferencia).set({'data_string':data_string})\n",
        "\n",
        "  else:\n",
        "    print('Revise as bandas espectrais de entrada.')"
      ],
      "metadata": {
        "id": "aDZvQlkU9UY_"
      },
      "execution_count": 10,
      "outputs": []
    },
    {
      "cell_type": "markdown",
      "source": [
        "***Processamento no GEE***"
      ],
      "metadata": {
        "id": "Av-rnqlUvoii"
      }
    },
    {
      "cell_type": "code",
      "source": [
        "# filtrar imagens Sentinel-2\n",
        "s2Collection = ee.ImageCollection(\"COPERNICUS/S2_HARMONIZED\").filterBounds(roi).filterDate(start_date,end_date).select(input_bands,renamed_bands)"
      ],
      "metadata": {
        "id": "kwhVgjD18LZG"
      },
      "execution_count": 16,
      "outputs": []
    },
    {
      "cell_type": "code",
      "source": [
        "# pré-processamento e obterção de uma lista com as datas das imagens\n",
        "s2Collection_v1 = ee.ImageCollection(s2Collection.map(basic_process))\n",
        "\n",
        "listaDatas = s2Collection_v1.aggregate_array('data_string').distinct()"
      ],
      "metadata": {
        "id": "gWNeeMLS8dlF"
      },
      "execution_count": 17,
      "outputs": []
    },
    {
      "cell_type": "code",
      "source": [
        "# calcular índices de vegetação\n",
        "s2Collection_v2 = ee.ImageCollection(listaDatas.map(obtain_vis_values))"
      ],
      "metadata": {
        "id": "LxE_5FBCk7fq"
      },
      "execution_count": 18,
      "outputs": []
    },
    {
      "cell_type": "markdown",
      "source": [
        "*Exportar asset para a conta do GEE, rodar apenas se não é possível exportar o CSV para janelas de tempo muito longas. Após exportar para o drive e concluir essa etapa, por favor, pular para o tópico referente ao ajuste da tabela para o padrão consumido pelo modelo de produtividade.*"
      ],
      "metadata": {
        "id": "b-ZxPacJ8zj7"
      }
    },
    {
      "cell_type": "code",
      "source": [
        "# função de ajuste do nome das bandas\n",
        "def change_name_v2(list_elem):\n",
        "  nameList = ee.String(list_elem).split('_')\n",
        "  return ee.String(nameList.get(1)).cat('_').cat(nameList.get(2))"
      ],
      "metadata": {
        "id": "jesSlnUi7pMC"
      },
      "execution_count": null,
      "outputs": []
    },
    {
      "cell_type": "code",
      "source": [
        "for i in interested_variable:\n",
        "  i_str = ee.String(i)\n",
        "  s2Collection_v2_filtered = s2Collection_v2.select(i_str).map(lambda img: img.rename(ee.String(i_str).cat('_').cat(ee.String(img.get('data_string')))))\n",
        "  s2Collection_v3 = s2Collection_v2_filtered.toBands()\n",
        "\n",
        "  # nomes finais das bandas do acumulado da radiação global\n",
        "  s2Collection_v3_bandsName = s2Collection_v3.bandNames()\n",
        "  s2Collection_v3_bandsName_new = s2Collection_v3_bandsName.map(change_name_v2)\n",
        "\n",
        "  s2Collection_v4 = s2Collection_v3.select(s2Collection_v3_bandsName,s2Collection_v3_bandsName_new)\n",
        "\n",
        "  taskname = 'gee_'+interested_area_name+'_'+reference_year+'_'+i\n",
        "\n",
        "  task_band = ee.batch.Export.image.toAsset(**{\n",
        "    'image': s2Collection_v4,\n",
        "    'description': taskname,\n",
        "    'assetId': 'users/nildsonsilva/Usina_Pedra/temp_imagens_indices_vegetacao/'+taskname,\n",
        "    'scale': 10,\n",
        "    'region': roi.geometry()\n",
        "  })\n",
        "  task_band.start()"
      ],
      "metadata": {
        "id": "oXo7RoJv7Z9z"
      },
      "execution_count": null,
      "outputs": []
    },
    {
      "cell_type": "code",
      "source": [
        "for i in interested_variable:\n",
        "  taskname = 'gee_'+interested_area_name+'_'+reference_year+'_'+i\n",
        "\n",
        "  result = ee.Image(ee.String('users/nildsonsilva/Usina_Pedra/temp_imagens_indices_vegetacao/'+taskname))\n",
        "\n",
        "  # obter para a banda espectral de interesse sua média para o talhão\n",
        "  poligonos_metricas = result.reduceRegions(**{\n",
        "      'collection': talhoes,\n",
        "      'reducer': ee.Reducer.mean(),\n",
        "      'crs': 'EPSG:3857',\n",
        "      'scale': 10,\n",
        "      'tileScale': 16,\n",
        "    })\n",
        "\n",
        "  # exportar a FeatureCollection do GEE para um CSV\n",
        "  output_path = 'USINA_PRODUTIVIDADE'\n",
        "\n",
        "  task = ee.batch.Export.table.toDrive(**{\n",
        "    'collection': ee.FeatureCollection(poligonos_metricas),\n",
        "    'description': taskname,\n",
        "    'fileFormat': 'CSV',\n",
        "    'folder': output_path,\n",
        "  })\n",
        "  task.start()"
      ],
      "metadata": {
        "id": "MiLjKTxd8C1D"
      },
      "execution_count": null,
      "outputs": []
    },
    {
      "cell_type": "markdown",
      "source": [
        "*Caso sua série temporal não seja muito longa, rodar o script a partir daqui*"
      ],
      "metadata": {
        "id": "exW1ZrxC84dq"
      }
    },
    {
      "cell_type": "code",
      "source": [
        "# exportar as tabelas com os resultados do GEE por variável de interesse\n",
        "for i in interested_variable:\n",
        "  i_str = ee.String(i)\n",
        "  s2Collection_v2_filtered = s2Collection_v2.select(i_str).map(lambda img: img.rename(ee.String(i_str).cat('_').cat(ee.String(img.get('data_string')))))\n",
        "  result = s2Collection_v2_filtered.toBands()\n",
        "\n",
        "  poligonos_metricas = result.reduceRegions(**{\n",
        "    'collection': talhoes,\n",
        "    'reducer': ee.Reducer.mean(),\n",
        "    'crs': 'EPSG:3857',\n",
        "    'scale': 10,\n",
        "    'tileScale': 16,\n",
        "  })\n",
        "  \n",
        "  taskname = 'gee_'+interested_area_name+'_'+reference_year+'_'+i\n",
        "  output_path = 'USINA_PRODUTIVIDADE'\n",
        "\n",
        "  # Export the FeatureCollection to a CSV file.\n",
        "  task = ee.batch.Export.table.toDrive(**{\n",
        "    'collection': ee.FeatureCollection(poligonos_metricas),\n",
        "    'description': taskname,\n",
        "    'fileFormat': 'CSV',\n",
        "    'folder': output_path,\n",
        "  })\n",
        "  task.start()\n"
      ],
      "metadata": {
        "id": "ZZ0BvsOWww4E"
      },
      "execution_count": 19,
      "outputs": []
    },
    {
      "cell_type": "markdown",
      "source": [
        "***Ajustar as tabelas exportadas pelo GEE para o padrão requerido pelo modelo e produtividade para cana-de-açúcar***  "
      ],
      "metadata": {
        "id": "AJPZ2b1TqF8q"
      }
    },
    {
      "cell_type": "code",
      "source": [
        "# abrir e ajustar o CSV com o código do talhão atribuido pela Agrosatélite e seus respectivos códigos anuais definidos pela Usina\n",
        "cod_talhao = pd.read_csv(filepath_cod_talhao,delimiter=',')\n",
        "cod_talhao = cod_talhao[['ref_2022','y2015','y2016','y2017','y2018','y2019','y2020','y2021','y2022']]\n",
        "cod_talhao"
      ],
      "metadata": {
        "colab": {
          "base_uri": "https://localhost:8080/",
          "height": 424
        },
        "id": "HaBrSciOudGw",
        "outputId": "9f4277d1-72c0-4616-d6cf-d9dfed1bf495"
      },
      "execution_count": null,
      "outputs": [
        {
          "output_type": "execute_result",
          "data": {
            "text/plain": [
              "       ref_2022 y2015     y2016     y2017     y2018     y2019     y2020  \\\n",
              "0             1        30687009  30687009  30687009            30687009   \n",
              "1             2        30687007  30687007  30687007            30687007   \n",
              "2             3                  30948001  30948004  30948004  30948004   \n",
              "3             4        30948001  30948001            30948004  30948004   \n",
              "4             5        30832001  30832001            30832001  30832001   \n",
              "...         ...   ...       ...       ...       ...       ...       ...   \n",
              "76877     76878        30687006  30687006  30687006            30687006   \n",
              "76878     76879        30687003  30687003  30687003            30687003   \n",
              "76879     76880        30687004  30687004  30687004            30687004   \n",
              "76880     76881        30687001  30687001  30687001            30687001   \n",
              "76881     76882        30687002  30687002  30687002            30687002   \n",
              "\n",
              "          y2021 y2022  \n",
              "0      30687009   NaN  \n",
              "1      30687007   NaN  \n",
              "2      40903004   NaN  \n",
              "3      40903004   NaN  \n",
              "4      30832001   NaN  \n",
              "...         ...   ...  \n",
              "76877  30687006   NaN  \n",
              "76878  30687003   NaN  \n",
              "76879  30687004   NaN  \n",
              "76880  30687001   NaN  \n",
              "76881  30687002   NaN  \n",
              "\n",
              "[76882 rows x 9 columns]"
            ],
            "text/html": [
              "\n",
              "  <div id=\"df-bee84d87-59d2-495f-bdef-eb6e0649bf49\">\n",
              "    <div class=\"colab-df-container\">\n",
              "      <div>\n",
              "<style scoped>\n",
              "    .dataframe tbody tr th:only-of-type {\n",
              "        vertical-align: middle;\n",
              "    }\n",
              "\n",
              "    .dataframe tbody tr th {\n",
              "        vertical-align: top;\n",
              "    }\n",
              "\n",
              "    .dataframe thead th {\n",
              "        text-align: right;\n",
              "    }\n",
              "</style>\n",
              "<table border=\"1\" class=\"dataframe\">\n",
              "  <thead>\n",
              "    <tr style=\"text-align: right;\">\n",
              "      <th></th>\n",
              "      <th>ref_2022</th>\n",
              "      <th>y2015</th>\n",
              "      <th>y2016</th>\n",
              "      <th>y2017</th>\n",
              "      <th>y2018</th>\n",
              "      <th>y2019</th>\n",
              "      <th>y2020</th>\n",
              "      <th>y2021</th>\n",
              "      <th>y2022</th>\n",
              "    </tr>\n",
              "  </thead>\n",
              "  <tbody>\n",
              "    <tr>\n",
              "      <th>0</th>\n",
              "      <td>1</td>\n",
              "      <td></td>\n",
              "      <td>30687009</td>\n",
              "      <td>30687009</td>\n",
              "      <td>30687009</td>\n",
              "      <td></td>\n",
              "      <td>30687009</td>\n",
              "      <td>30687009</td>\n",
              "      <td>NaN</td>\n",
              "    </tr>\n",
              "    <tr>\n",
              "      <th>1</th>\n",
              "      <td>2</td>\n",
              "      <td></td>\n",
              "      <td>30687007</td>\n",
              "      <td>30687007</td>\n",
              "      <td>30687007</td>\n",
              "      <td></td>\n",
              "      <td>30687007</td>\n",
              "      <td>30687007</td>\n",
              "      <td>NaN</td>\n",
              "    </tr>\n",
              "    <tr>\n",
              "      <th>2</th>\n",
              "      <td>3</td>\n",
              "      <td></td>\n",
              "      <td></td>\n",
              "      <td>30948001</td>\n",
              "      <td>30948004</td>\n",
              "      <td>30948004</td>\n",
              "      <td>30948004</td>\n",
              "      <td>40903004</td>\n",
              "      <td>NaN</td>\n",
              "    </tr>\n",
              "    <tr>\n",
              "      <th>3</th>\n",
              "      <td>4</td>\n",
              "      <td></td>\n",
              "      <td>30948001</td>\n",
              "      <td>30948001</td>\n",
              "      <td></td>\n",
              "      <td>30948004</td>\n",
              "      <td>30948004</td>\n",
              "      <td>40903004</td>\n",
              "      <td>NaN</td>\n",
              "    </tr>\n",
              "    <tr>\n",
              "      <th>4</th>\n",
              "      <td>5</td>\n",
              "      <td></td>\n",
              "      <td>30832001</td>\n",
              "      <td>30832001</td>\n",
              "      <td></td>\n",
              "      <td>30832001</td>\n",
              "      <td>30832001</td>\n",
              "      <td>30832001</td>\n",
              "      <td>NaN</td>\n",
              "    </tr>\n",
              "    <tr>\n",
              "      <th>...</th>\n",
              "      <td>...</td>\n",
              "      <td>...</td>\n",
              "      <td>...</td>\n",
              "      <td>...</td>\n",
              "      <td>...</td>\n",
              "      <td>...</td>\n",
              "      <td>...</td>\n",
              "      <td>...</td>\n",
              "      <td>...</td>\n",
              "    </tr>\n",
              "    <tr>\n",
              "      <th>76877</th>\n",
              "      <td>76878</td>\n",
              "      <td></td>\n",
              "      <td>30687006</td>\n",
              "      <td>30687006</td>\n",
              "      <td>30687006</td>\n",
              "      <td></td>\n",
              "      <td>30687006</td>\n",
              "      <td>30687006</td>\n",
              "      <td>NaN</td>\n",
              "    </tr>\n",
              "    <tr>\n",
              "      <th>76878</th>\n",
              "      <td>76879</td>\n",
              "      <td></td>\n",
              "      <td>30687003</td>\n",
              "      <td>30687003</td>\n",
              "      <td>30687003</td>\n",
              "      <td></td>\n",
              "      <td>30687003</td>\n",
              "      <td>30687003</td>\n",
              "      <td>NaN</td>\n",
              "    </tr>\n",
              "    <tr>\n",
              "      <th>76879</th>\n",
              "      <td>76880</td>\n",
              "      <td></td>\n",
              "      <td>30687004</td>\n",
              "      <td>30687004</td>\n",
              "      <td>30687004</td>\n",
              "      <td></td>\n",
              "      <td>30687004</td>\n",
              "      <td>30687004</td>\n",
              "      <td>NaN</td>\n",
              "    </tr>\n",
              "    <tr>\n",
              "      <th>76880</th>\n",
              "      <td>76881</td>\n",
              "      <td></td>\n",
              "      <td>30687001</td>\n",
              "      <td>30687001</td>\n",
              "      <td>30687001</td>\n",
              "      <td></td>\n",
              "      <td>30687001</td>\n",
              "      <td>30687001</td>\n",
              "      <td>NaN</td>\n",
              "    </tr>\n",
              "    <tr>\n",
              "      <th>76881</th>\n",
              "      <td>76882</td>\n",
              "      <td></td>\n",
              "      <td>30687002</td>\n",
              "      <td>30687002</td>\n",
              "      <td>30687002</td>\n",
              "      <td></td>\n",
              "      <td>30687002</td>\n",
              "      <td>30687002</td>\n",
              "      <td>NaN</td>\n",
              "    </tr>\n",
              "  </tbody>\n",
              "</table>\n",
              "<p>76882 rows × 9 columns</p>\n",
              "</div>\n",
              "      <button class=\"colab-df-convert\" onclick=\"convertToInteractive('df-bee84d87-59d2-495f-bdef-eb6e0649bf49')\"\n",
              "              title=\"Convert this dataframe to an interactive table.\"\n",
              "              style=\"display:none;\">\n",
              "        \n",
              "  <svg xmlns=\"http://www.w3.org/2000/svg\" height=\"24px\"viewBox=\"0 0 24 24\"\n",
              "       width=\"24px\">\n",
              "    <path d=\"M0 0h24v24H0V0z\" fill=\"none\"/>\n",
              "    <path d=\"M18.56 5.44l.94 2.06.94-2.06 2.06-.94-2.06-.94-.94-2.06-.94 2.06-2.06.94zm-11 1L8.5 8.5l.94-2.06 2.06-.94-2.06-.94L8.5 2.5l-.94 2.06-2.06.94zm10 10l.94 2.06.94-2.06 2.06-.94-2.06-.94-.94-2.06-.94 2.06-2.06.94z\"/><path d=\"M17.41 7.96l-1.37-1.37c-.4-.4-.92-.59-1.43-.59-.52 0-1.04.2-1.43.59L10.3 9.45l-7.72 7.72c-.78.78-.78 2.05 0 2.83L4 21.41c.39.39.9.59 1.41.59.51 0 1.02-.2 1.41-.59l7.78-7.78 2.81-2.81c.8-.78.8-2.07 0-2.86zM5.41 20L4 18.59l7.72-7.72 1.47 1.35L5.41 20z\"/>\n",
              "  </svg>\n",
              "      </button>\n",
              "      \n",
              "  <style>\n",
              "    .colab-df-container {\n",
              "      display:flex;\n",
              "      flex-wrap:wrap;\n",
              "      gap: 12px;\n",
              "    }\n",
              "\n",
              "    .colab-df-convert {\n",
              "      background-color: #E8F0FE;\n",
              "      border: none;\n",
              "      border-radius: 50%;\n",
              "      cursor: pointer;\n",
              "      display: none;\n",
              "      fill: #1967D2;\n",
              "      height: 32px;\n",
              "      padding: 0 0 0 0;\n",
              "      width: 32px;\n",
              "    }\n",
              "\n",
              "    .colab-df-convert:hover {\n",
              "      background-color: #E2EBFA;\n",
              "      box-shadow: 0px 1px 2px rgba(60, 64, 67, 0.3), 0px 1px 3px 1px rgba(60, 64, 67, 0.15);\n",
              "      fill: #174EA6;\n",
              "    }\n",
              "\n",
              "    [theme=dark] .colab-df-convert {\n",
              "      background-color: #3B4455;\n",
              "      fill: #D2E3FC;\n",
              "    }\n",
              "\n",
              "    [theme=dark] .colab-df-convert:hover {\n",
              "      background-color: #434B5C;\n",
              "      box-shadow: 0px 1px 3px 1px rgba(0, 0, 0, 0.15);\n",
              "      filter: drop-shadow(0px 1px 2px rgba(0, 0, 0, 0.3));\n",
              "      fill: #FFFFFF;\n",
              "    }\n",
              "  </style>\n",
              "\n",
              "      <script>\n",
              "        const buttonEl =\n",
              "          document.querySelector('#df-bee84d87-59d2-495f-bdef-eb6e0649bf49 button.colab-df-convert');\n",
              "        buttonEl.style.display =\n",
              "          google.colab.kernel.accessAllowed ? 'block' : 'none';\n",
              "\n",
              "        async function convertToInteractive(key) {\n",
              "          const element = document.querySelector('#df-bee84d87-59d2-495f-bdef-eb6e0649bf49');\n",
              "          const dataTable =\n",
              "            await google.colab.kernel.invokeFunction('convertToInteractive',\n",
              "                                                     [key], {});\n",
              "          if (!dataTable) return;\n",
              "\n",
              "          const docLinkHtml = 'Like what you see? Visit the ' +\n",
              "            '<a target=\"_blank\" href=https://colab.research.google.com/notebooks/data_table.ipynb>data table notebook</a>'\n",
              "            + ' to learn more about interactive tables.';\n",
              "          element.innerHTML = '';\n",
              "          dataTable['output_type'] = 'display_data';\n",
              "          await google.colab.output.renderOutput(dataTable, element);\n",
              "          const docLink = document.createElement('div');\n",
              "          docLink.innerHTML = docLinkHtml;\n",
              "          element.appendChild(docLink);\n",
              "        }\n",
              "      </script>\n",
              "    </div>\n",
              "  </div>\n",
              "  "
            ]
          },
          "metadata": {},
          "execution_count": 18
        }
      ]
    },
    {
      "cell_type": "code",
      "source": [
        "final_vars = ['NDVI','EVI2','SAVI','OSAVI','ReCl','MSAVI2','GNDVI','NDWImcFeeters','GCI','PVR','EVI','RBNDVI','SIPI','ARVI','VARI','NDSI','NDWIgao','NBR','NDRE','NRERI']"
      ],
      "metadata": {
        "id": "oLKNFfYruN8S"
      },
      "execution_count": null,
      "outputs": []
    },
    {
      "cell_type": "code",
      "source": [
        "# ajustar as tabelas e exportar os resultados finais\n",
        "for i in final_vars:\n",
        "  var_endswith = i+'.csv'\n",
        "  print(\"Variável em processamento: \"+i)\n",
        "\n",
        "  filename_from_gee = 'gee_'+interested_area_name+'_'+reference_year+'_'+var_endswith\n",
        "  filepath_table_from_gee = root_path+filename_from_gee\n",
        "\n",
        "  df = pd.read_csv(filepath_table_from_gee)\n",
        "\n",
        "  str_contains = id_column_tables+'|'+i\n",
        "\n",
        "  df_edit1 = df[df.columns[df.columns.str.contains(str_contains)]]\n",
        "\n",
        "  df_edit3 = pd.melt(df_edit1, id_vars=[id_column_tables], \n",
        "            value_name=i).sort_values(i) # transformar todas as colunas referentes a banda de interesse em uma única coluna\n",
        "\n",
        "  df_edit3['data'] = df_edit3['variable'].str.rsplit(\"_\", n=1, expand=True)[1]\n",
        "\n",
        "  column_final_name = dict_columns_final_name.get(i)\n",
        "\n",
        "  df_edit3 = df_edit3.rename(columns = { \n",
        "        i: column_final_name,\n",
        "  }, inplace = False)\n",
        "\n",
        "  ordem = [id_column_tables,'data',column_final_name]\n",
        "\n",
        "  df_new = df_edit3[ordem]\n",
        "\n",
        "  df_final = df_new.merge(cod_talhao, on=id_column_tables, how=\"left\")\n",
        "\n",
        "  df_final = df_final.rename(columns = { \n",
        "      id_column_tables: 'id',\n",
        "  }, inplace = False)\n",
        "\n",
        "  filename = interested_area_name+'_'+reference_year+'_'+i+'.csv'\n",
        "\n",
        "  # exportar csv\n",
        "  new_path = root_path+'OUTPUT'\n",
        "  final_name = new_path + '/' + filename\n",
        "  df_final.to_csv(final_name,columns=df_final.columns,index=False)\n",
        "  print(\"O arquivo {} foi exportado com sucesso!\".format(filename))"
      ],
      "metadata": {
        "id": "xM5dNRuXRtaI"
      },
      "execution_count": null,
      "outputs": []
    }
  ]
}